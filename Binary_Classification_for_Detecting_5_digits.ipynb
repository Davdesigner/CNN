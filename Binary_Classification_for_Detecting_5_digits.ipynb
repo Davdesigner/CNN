{
  "nbformat": 4,
  "nbformat_minor": 0,
  "metadata": {
    "colab": {
      "provenance": [],
      "include_colab_link": true
    },
    "kernelspec": {
      "name": "python3",
      "display_name": "Python 3"
    },
    "language_info": {
      "name": "python"
    }
  },
  "cells": [
    {
      "cell_type": "markdown",
      "metadata": {
        "id": "view-in-github",
        "colab_type": "text"
      },
      "source": [
        "<a href=\"https://colab.research.google.com/github/Davdesigner/CNN/blob/main/Binary_Classification_for_Detecting_5_digits.ipynb\" target=\"_parent\"><img src=\"https://colab.research.google.com/assets/colab-badge.svg\" alt=\"Open In Colab\"/></a>"
      ]
    },
    {
      "cell_type": "markdown",
      "source": [
        "# Binary Classification with MNIST — Detecting the Digit 5\n",
        "\n",
        "## Objective\n",
        "\n",
        "In this exercise, you will build a **binary classifier** that can detect whether an image from the MNIST dataset represents the digit **5** or **not-5**.\n",
        "\n",
        "You’ll work through the process of:\n",
        "\n",
        "- Loading and preparing the data\n",
        "- Creating binary target vectors\n",
        "- Training a simple model using **stochastic gradient descent (SGD)**\n",
        "- Evaluating your model’s performance\n",
        "\n",
        "## Background\n",
        "\n",
        "The MNIST dataset consists of **70,000 grayscale images** of handwritten digits (0–9), each 28×28 pixels, flattened into a vector of 784 features, and each feature simply represents one pixel’s intensity, from 0 (white) to 255 (black). We can see this by inspecting the shape, `X.shape`, `y.shape`.\n",
        "\n",
        "This set has been studied so much that it is often called the “hello world” of Machine Learning.\n",
        "\n",
        "For this task, we’ll turn it into a **binary classification problem**:\n",
        "- Label **5** as the **positive class** (`True`)\n",
        "- Label all other digits (i.e 0–4, 6–9) as the **negative class** (`False`)\n",
        "\n",
        "## Instructions\n",
        "\n",
        "### 🔹 Step 1: Load the MNIST Dataset\n",
        "\n",
        "Use `sklearn.datasets.fetch_openml()` to load the MNIST dataset, and extract the `data` and `targets`:\n",
        "\n",
        "```python\n",
        "# TODO\n",
        "```\n",
        "\n",
        "### 🔹 Step 2: Create the Test Set\n",
        "\n",
        "Split the data manually:\n",
        "- Use the **first 60,000 samples** for training\n",
        "- Use the **last 10,000 samples** for testing\n",
        "\n",
        "```python\n",
        "# TODO\n",
        "```\n",
        "\n",
        "### 🔹 Step 3: Create Binary Target Vectors\n",
        "\n",
        "Transform the train and test labels into boolean arrays for a binary \"5-detector\":\n",
        "\n",
        "```python\n",
        "# TODO\n",
        "```\n",
        "\n",
        "### 🔹 Step 4: Train a Classifier\n",
        "\n",
        "Use `SGDClassifier` for its efficiency on large datasets and compatibility with online learning:\n",
        "\n",
        "```python\n",
        "# TODO\n",
        "```\n",
        "\n",
        "### 🔹 Step 5: Make Predictions\n",
        "\n",
        "Test the model on new data:\n",
        "\n",
        "```python\n",
        "# TODO\n",
        "```\n",
        "\n",
        "## Bonus: Evaluate Your Classifier (Optional)\n",
        "\n",
        "Try adding these steps to explore your model further:\n",
        "\n",
        "- Use `cross_val_score()` to measure accuracy\n",
        "- Plot a confusion matrix using `sklearn.metrics`\n",
        "- Try another classifier like `RandomForestClassifier` for comparison\n",
        "- Tune hyperparameters (e.g., learning rate, regularization)"
      ],
      "metadata": {
        "id": "D8ZcKjk0DLag"
      }
    },
    {
      "cell_type": "code",
      "source": [
        "#importing the data\n",
        "from sklearn.datasets import fetch_openml\n",
        "mnist = fetch_openml('mnist_784', version=1)\n",
        "mnist.keys()"
      ],
      "metadata": {
        "colab": {
          "base_uri": "https://localhost:8080/",
          "height": 176
        },
        "id": "E_S_9wxHDOoc",
        "outputId": "cb83be9c-7628-4bbe-9580-5d7ce4f74f93"
      },
      "execution_count": null,
      "outputs": [
        {
          "output_type": "error",
          "ename": "NameError",
          "evalue": "name 'sklearn' is not defined",
          "traceback": [
            "\u001b[0;31m---------------------------------------------------------------------------\u001b[0m",
            "\u001b[0;31mNameError\u001b[0m                                 Traceback (most recent call last)",
            "\u001b[0;32m/tmp/ipython-input-3-181551529.py\u001b[0m in \u001b[0;36m<cell line: 0>\u001b[0;34m()\u001b[0m\n\u001b[1;32m      3\u001b[0m \u001b[0mmnist\u001b[0m \u001b[0;34m=\u001b[0m \u001b[0mfetch_openml\u001b[0m\u001b[0;34m(\u001b[0m\u001b[0;34m'mnist_784'\u001b[0m\u001b[0;34m,\u001b[0m \u001b[0mversion\u001b[0m\u001b[0;34m=\u001b[0m\u001b[0;36m1\u001b[0m\u001b[0;34m)\u001b[0m\u001b[0;34m\u001b[0m\u001b[0;34m\u001b[0m\u001b[0m\n\u001b[1;32m      4\u001b[0m \u001b[0mmnist\u001b[0m\u001b[0;34m.\u001b[0m\u001b[0mkeys\u001b[0m\u001b[0;34m(\u001b[0m\u001b[0;34m)\u001b[0m\u001b[0;34m\u001b[0m\u001b[0;34m\u001b[0m\u001b[0m\n\u001b[0;32m----> 5\u001b[0;31m \u001b[0msklearn\u001b[0m\u001b[0;34m.\u001b[0m\u001b[0mdatasets\u001b[0m\u001b[0;34m.\u001b[0m\u001b[0mfetch_openml\u001b[0m\u001b[0;34m(\u001b[0m\u001b[0;34m)\u001b[0m\u001b[0;34m\u001b[0m\u001b[0;34m\u001b[0m\u001b[0m\n\u001b[0m",
            "\u001b[0;31mNameError\u001b[0m: name 'sklearn' is not defined"
          ]
        }
      ]
    }
  ]
}